{
  "nbformat": 4,
  "nbformat_minor": 0,
  "metadata": {
    "colab": {
      "provenance": [],
      "authorship_tag": "ABX9TyMJ18TpmoMulxl8WizyEjUq",
      "include_colab_link": true
    },
    "kernelspec": {
      "name": "python3",
      "display_name": "Python 3"
    },
    "language_info": {
      "name": "python"
    }
  },
  "cells": [
    {
      "cell_type": "markdown",
      "metadata": {
        "id": "view-in-github",
        "colab_type": "text"
      },
      "source": [
        "<a href=\"https://colab.research.google.com/github/rmwvamp/AStartPathfinding/blob/main/cifar_pytorch.ipynb\" target=\"_parent\"><img src=\"https://colab.research.google.com/assets/colab-badge.svg\" alt=\"Open In Colab\"/></a>"
      ]
    },
    {
      "cell_type": "code",
      "execution_count": 15,
      "metadata": {
        "id": "jr-3OHzP86XA"
      },
      "outputs": [],
      "source": [
        "import torch\n",
        "import torch.nn as nn\n",
        "import torch.optim as optim\n",
        "import torchvision\n",
        "import torch.nn.functional as F\n",
        "import torchvision.transforms as transforms"
      ]
    },
    {
      "cell_type": "code",
      "source": [
        "transform = transforms.Compose(\n",
        "    [transforms.ToTensor(),\n",
        "     transforms.Normalize((0.5, 0.5, 0.5), (0.5, 0.5, 0.5))])\n",
        "\n",
        "batch_size = 64\n",
        "\n",
        "trainset = torchvision.datasets.CIFAR10(root='./data', train=True,\n",
        "                                        download=True, transform=transform)\n",
        "trainloader = torch.utils.data.DataLoader(trainset, batch_size=batch_size,\n",
        "                                          shuffle=True, num_workers=2)\n",
        "\n",
        "testset = torchvision.datasets.CIFAR10(root='./data', train=False,\n",
        "                                       download=True, transform=transform)\n",
        "testloader = torch.utils.data.DataLoader(testset, batch_size=batch_size,\n",
        "                                         shuffle=False, num_workers=2)\n",
        "\n",
        "classes = ('plane', 'car', 'bird', 'cat',\n",
        "           'deer', 'dog', 'frog', 'horse', 'ship', 'truck')\n"
      ],
      "metadata": {
        "colab": {
          "base_uri": "https://localhost:8080/"
        },
        "id": "ekCEYgsX9F5h",
        "outputId": "a191c199-3411-4ca6-fcc8-cddb56337ce3"
      },
      "execution_count": 28,
      "outputs": [
        {
          "output_type": "stream",
          "name": "stdout",
          "text": [
            "Files already downloaded and verified\n",
            "Files already downloaded and verified\n"
          ]
        }
      ]
    },
    {
      "cell_type": "code",
      "source": [
        "class Net(nn.Module):\n",
        "    def __init__(self):\n",
        "        super(Net, self).__init__()\n",
        "        self.conv1 = nn.Conv2d(3, 6, 5)\n",
        "        self.pool = nn.MaxPool2d(2, 2)\n",
        "        self.conv2 = nn.Conv2d(6, 16, 5)\n",
        "        self.fc1 = nn.Linear(16 * 5 * 5, 120)\n",
        "        self.fc2 = nn.Linear(120, 84)\n",
        "        self.fc3 = nn.Linear(84, 10)\n",
        "\n",
        "    def forward(self, x):\n",
        "        x = self.pool(F.relu(self.conv1(x)))\n",
        "        x = self.pool(F.relu(self.conv2(x)))\n",
        "        x = x.view(-1, 16 * 5 * 5)\n",
        "        x = F.relu(self.fc1(x))\n",
        "        x = F.relu(self.fc2(x))\n",
        "        x = self.fc3(x)\n",
        "        return x\n",
        "\n",
        "net = Net()\n"
      ],
      "metadata": {
        "id": "afLxoGCS9J6b"
      },
      "execution_count": 29,
      "outputs": []
    },
    {
      "cell_type": "code",
      "source": [
        "criterion = nn.CrossEntropyLoss()\n",
        "optimizer = optim.SGD(net.parameters(), lr=0.001, momentum=0.9)\n"
      ],
      "metadata": {
        "id": "1r0zjufP9MA0"
      },
      "execution_count": 30,
      "outputs": []
    },
    {
      "cell_type": "code",
      "source": [
        "device = torch.device(\"cuda:0\" if torch.cuda.is_available() else \"cpu\")\n",
        "net.to(device)\n",
        "\n",
        "for epoch in range(10):\n",
        "    running_loss = 0.0\n",
        "    for i, data in enumerate(trainloader, 0):\n",
        "        inputs, labels = data\n",
        "        inputs, labels = inputs.to(device), labels.to(device)\n",
        "\n",
        "        optimizer.zero_grad()\n",
        "\n",
        "        outputs = net(inputs)\n",
        "        loss = criterion(outputs, labels)\n",
        "        loss.backward()\n",
        "        optimizer.step()\n",
        "\n",
        "        running_loss += loss.item()\n",
        "        if i % 200 == 199:\n",
        "            print(f\"[{epoch + 1}, {i + 1:5d}] loss: {running_loss / 200:.3f}\")\n",
        "            running_loss = 0.0\n",
        "\n",
        "print(\"Finished Training\")\n"
      ],
      "metadata": {
        "colab": {
          "base_uri": "https://localhost:8080/"
        },
        "id": "vS72nDPX9N3-",
        "outputId": "99987ab1-3ee6-4201-f72a-1de113edae06"
      },
      "execution_count": 31,
      "outputs": [
        {
          "output_type": "stream",
          "name": "stdout",
          "text": [
            "[1,   200] loss: 2.303\n",
            "[1,   400] loss: 2.303\n",
            "[1,   600] loss: 2.302\n",
            "[2,   200] loss: 2.300\n",
            "[2,   400] loss: 2.298\n",
            "[2,   600] loss: 2.296\n",
            "[3,   200] loss: 2.278\n",
            "[3,   400] loss: 2.237\n",
            "[3,   600] loss: 2.133\n",
            "[4,   200] loss: 1.987\n",
            "[4,   400] loss: 1.951\n",
            "[4,   600] loss: 1.910\n",
            "[5,   200] loss: 1.807\n",
            "[5,   400] loss: 1.769\n",
            "[5,   600] loss: 1.709\n",
            "[6,   200] loss: 1.638\n",
            "[6,   400] loss: 1.611\n",
            "[6,   600] loss: 1.593\n",
            "[7,   200] loss: 1.561\n",
            "[7,   400] loss: 1.526\n",
            "[7,   600] loss: 1.516\n",
            "[8,   200] loss: 1.483\n",
            "[8,   400] loss: 1.455\n",
            "[8,   600] loss: 1.461\n",
            "[9,   200] loss: 1.409\n",
            "[9,   400] loss: 1.405\n",
            "[9,   600] loss: 1.399\n",
            "[10,   200] loss: 1.364\n",
            "[10,   400] loss: 1.350\n",
            "[10,   600] loss: 1.351\n",
            "Finished Training\n"
          ]
        }
      ]
    },
    {
      "cell_type": "code",
      "source": [
        "from sklearn.metrics import confusion_matrix, classification_report\n",
        "\n",
        "\n",
        "all_preds = []\n",
        "all_labels = []\n",
        "\n",
        "\n",
        "net.eval()\n",
        "\n",
        "with torch.no_grad():\n",
        "    for data in testloader:\n",
        "        images, labels = data\n",
        "        images, labels = images.to(device), labels.to(device)\n",
        "        outputs = net(images)\n",
        "        _, predicted = torch.max(outputs.data, 1)\n",
        "\n",
        "\n",
        "        all_preds.extend(predicted.cpu().numpy())\n",
        "        all_labels.extend(labels.cpu().numpy())\n",
        "\n",
        "\n",
        "conf_matrix = confusion_matrix(all_labels, all_preds)\n",
        "\n",
        "\n",
        "print(\"Matrix:\")\n",
        "print(conf_matrix)\n",
        "\n",
        "\n",
        "class_names = classes\n",
        "classification_rep = classification_report(all_labels, all_preds, target_names=class_names)\n",
        "print(\"\\nClassification Report:\")\n",
        "print(classification_rep)\n"
      ],
      "metadata": {
        "colab": {
          "base_uri": "https://localhost:8080/"
        },
        "id": "MnUAZp0_Cvva",
        "outputId": "e5aa5c7d-8953-48ad-bc41-e7d3bb1eb5d6"
      },
      "execution_count": 32,
      "outputs": [
        {
          "output_type": "stream",
          "name": "stdout",
          "text": [
            "Confusion Matrix:\n",
            "[[580  14  73  35  20  18  22  16 156  66]\n",
            " [ 56 454   9  33   2  12  17  15 109 293]\n",
            " [ 71   7 363 129  85 147  92  49  25  32]\n",
            " [ 16   4  60 410  28 287 105  42  16  32]\n",
            " [ 41   5 176  95 278 109 164  98  20  14]\n",
            " [ 11   2  77 183  20 580  44  59  11  13]\n",
            " [  3   2  61 113  49  56 661  22  10  23]\n",
            " [ 26   1  31  89  41 181  37 552   5  37]\n",
            " [147  27  17  26   3  21  13   7 667  72]\n",
            " [ 42  64  15  60   3  24  34  36  99 623]]\n",
            "\n",
            "Classification Report:\n",
            "              precision    recall  f1-score   support\n",
            "\n",
            "       plane       0.58      0.58      0.58      1000\n",
            "         car       0.78      0.45      0.57      1000\n",
            "        bird       0.41      0.36      0.39      1000\n",
            "         cat       0.35      0.41      0.38      1000\n",
            "        deer       0.53      0.28      0.36      1000\n",
            "         dog       0.40      0.58      0.48      1000\n",
            "        frog       0.56      0.66      0.60      1000\n",
            "       horse       0.62      0.55      0.58      1000\n",
            "        ship       0.60      0.67      0.63      1000\n",
            "       truck       0.52      0.62      0.57      1000\n",
            "\n",
            "    accuracy                           0.52     10000\n",
            "   macro avg       0.53      0.52      0.51     10000\n",
            "weighted avg       0.53      0.52      0.51     10000\n",
            "\n"
          ]
        }
      ]
    }
  ]
}